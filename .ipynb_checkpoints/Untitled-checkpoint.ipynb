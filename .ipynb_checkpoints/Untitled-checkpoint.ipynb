{
 "cells": [
  {
   "cell_type": "code",
   "execution_count": 4,
   "id": "06352863-5dee-476d-81ba-f9f986482809",
   "metadata": {},
   "outputs": [],
   "source": [
    "import pandas as pd"
   ]
  },
  {
   "cell_type": "code",
   "execution_count": 2,
   "id": "01e52c41-ba80-4edf-9885-3c6d054ffebc",
   "metadata": {},
   "outputs": [],
   "source": [
    "import plotly.graph_objects as go"
   ]
  },
  {
   "cell_type": "code",
   "execution_count": 5,
   "id": "0badd4de-35af-4f1c-9b81-bfd4408f8365",
   "metadata": {},
   "outputs": [],
   "source": [
    "seed_family = \"/Users/rdenise/Documents/script/sORTholog_deployed/results/yhf_operon/processing_files/silix/modif/filtered_blast--Php_evalue_1e-04_cov_0.5_pid_0.5.fnodes.flushed\""
   ]
  },
  {
   "cell_type": "code",
   "execution_count": 14,
   "id": "5d9f7053-0bf2-4a09-a044-7b8568b8ff65",
   "metadata": {},
   "outputs": [],
   "source": [
    "split_info = seed_family.split('.fnodes')[0].split('_')"
   ]
  },
  {
   "cell_type": "code",
   "execution_count": 15,
   "id": "d78c0a93-94e5-4ac2-ae3e-74efe2c2d933",
   "metadata": {},
   "outputs": [],
   "source": [
    "seed_cov = float(split_info[-3])\n",
    "seed_pid = float(split_info[-1])\n",
    "seed_eval = float(split_info[-5])"
   ]
  },
  {
   "cell_type": "code",
   "execution_count": 18,
   "id": "0bfb3e04-1793-4e99-9eb4-c7d3ca454ec5",
   "metadata": {},
   "outputs": [],
   "source": [
    "blast_out = \"/Users/rdenise/Documents/script/sORTholog_deployed/results/yhf_operon/processing_files/blast/blastp--blast_evalue_1e-2.out\""
   ]
  },
  {
   "cell_type": "code",
   "execution_count": null,
   "id": "3c51b2c6-825a-487c-9172-c0bb94399961",
   "metadata": {},
   "outputs": [],
   "source": []
  }
 ],
 "metadata": {
  "kernelspec": {
   "display_name": "Python 3 (ipykernel)",
   "language": "python",
   "name": "python3"
  },
  "language_info": {
   "codemirror_mode": {
    "name": "ipython",
    "version": 3
   },
   "file_extension": ".py",
   "mimetype": "text/x-python",
   "name": "python",
   "nbconvert_exporter": "python",
   "pygments_lexer": "ipython3",
   "version": "3.9.7"
  }
 },
 "nbformat": 4,
 "nbformat_minor": 5
}
